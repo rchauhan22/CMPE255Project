{
 "cells": [
  {
   "cell_type": "markdown",
   "metadata": {},
   "source": [
    "# Introduction"
   ]
  },
  {
   "cell_type": "markdown",
   "metadata": {},
   "source": [
    "This project utilizes the Yelp academic dataset found through https://www.yelp.com/dataset. It aims to use this dataset, which is a subset of the larger yelp dataset, and applies multiple clustering machine learning algorithms. Yelp is known as an industry leading company with millions of restaurant reviews, which provides us with an extensive and informative database for a restaurant recommendation engine. "
   ]
  },
  {
   "cell_type": "markdown",
   "metadata": {},
   "source": [
    "The original yelp academic dataset is split into 5 different JSON files. For our analysis, we used 1 of the original 5 files, business.json. The Business.json file has 59 different attributes and 188594 entries. However, the data is relatively sparse with many null entries for many of the attributes. "
   ]
  },
  {
   "cell_type": "markdown",
   "metadata": {},
   "source": [
    "# Data Cleaning"
   ]
  },
  {
   "cell_type": "markdown",
   "metadata": {},
   "source": [
    "The first step we did was to convert the JSON files to a CSV file to make it easier to process. The yelp dataset has information on businesses other than restaurants. To filter this dataset to retrieve only businesses that are restaurants out we removed any entries within the business.csv file with a null for restaurant takeout. We also removed any permanently closed restaurants and restaurants without a price range to make the final dataset we used to have less null values."
   ]
  },
  {
   "cell_type": "code",
   "execution_count": 1,
   "metadata": {},
   "outputs": [],
   "source": [
    "import pandas as pd\n",
    "import numpy as np\n",
    "import sys"
   ]
  },
  {
   "cell_type": "code",
   "execution_count": 2,
   "metadata": {},
   "outputs": [
    {
     "data": {
      "text/html": [
       "<div>\n",
       "<style scoped>\n",
       "    .dataframe tbody tr th:only-of-type {\n",
       "        vertical-align: middle;\n",
       "    }\n",
       "\n",
       "    .dataframe tbody tr th {\n",
       "        vertical-align: top;\n",
       "    }\n",
       "\n",
       "    .dataframe thead th {\n",
       "        text-align: right;\n",
       "    }\n",
       "</style>\n",
       "<table border=\"1\" class=\"dataframe\">\n",
       "  <thead>\n",
       "    <tr style=\"text-align: right;\">\n",
       "      <th></th>\n",
       "      <th>address</th>\n",
       "      <th>attributes.AcceptsInsurance</th>\n",
       "      <th>attributes.AgesAllowed</th>\n",
       "      <th>attributes.Alcohol</th>\n",
       "      <th>attributes.Ambience</th>\n",
       "      <th>attributes.BYOB</th>\n",
       "      <th>attributes.BYOBCorkage</th>\n",
       "      <th>attributes.BestNights</th>\n",
       "      <th>attributes.BikeParking</th>\n",
       "      <th>attributes.BusinessAcceptsBitcoin</th>\n",
       "      <th>...</th>\n",
       "      <th>hours.Wednesday</th>\n",
       "      <th>is_open</th>\n",
       "      <th>latitude</th>\n",
       "      <th>longitude</th>\n",
       "      <th>name</th>\n",
       "      <th>neighborhood</th>\n",
       "      <th>postal_code</th>\n",
       "      <th>review_count</th>\n",
       "      <th>stars</th>\n",
       "      <th>state</th>\n",
       "    </tr>\n",
       "  </thead>\n",
       "  <tbody>\n",
       "    <tr>\n",
       "      <th>0</th>\n",
       "      <td>1314 44 Avenue NE</td>\n",
       "      <td>NaN</td>\n",
       "      <td>NaN</td>\n",
       "      <td>NaN</td>\n",
       "      <td>NaN</td>\n",
       "      <td>NaN</td>\n",
       "      <td>NaN</td>\n",
       "      <td>NaN</td>\n",
       "      <td>False</td>\n",
       "      <td>NaN</td>\n",
       "      <td>...</td>\n",
       "      <td>11:0-21:0</td>\n",
       "      <td>1</td>\n",
       "      <td>51.091813</td>\n",
       "      <td>-114.031675</td>\n",
       "      <td>Minhas Micro Brewery</td>\n",
       "      <td>NaN</td>\n",
       "      <td>T2E 6L6</td>\n",
       "      <td>24</td>\n",
       "      <td>4.0</td>\n",
       "      <td>AB</td>\n",
       "    </tr>\n",
       "    <tr>\n",
       "      <th>1</th>\n",
       "      <td>NaN</td>\n",
       "      <td>NaN</td>\n",
       "      <td>NaN</td>\n",
       "      <td>none</td>\n",
       "      <td>NaN</td>\n",
       "      <td>NaN</td>\n",
       "      <td>NaN</td>\n",
       "      <td>NaN</td>\n",
       "      <td>False</td>\n",
       "      <td>NaN</td>\n",
       "      <td>...</td>\n",
       "      <td>NaN</td>\n",
       "      <td>0</td>\n",
       "      <td>35.960734</td>\n",
       "      <td>-114.939821</td>\n",
       "      <td>CK'S BBQ &amp; Catering</td>\n",
       "      <td>NaN</td>\n",
       "      <td>89002</td>\n",
       "      <td>3</td>\n",
       "      <td>4.5</td>\n",
       "      <td>NV</td>\n",
       "    </tr>\n",
       "    <tr>\n",
       "      <th>2</th>\n",
       "      <td>1335 rue Beaubien E</td>\n",
       "      <td>NaN</td>\n",
       "      <td>NaN</td>\n",
       "      <td>beer_and_wine</td>\n",
       "      <td>{'romantic': False, 'intimate': False, 'classy...</td>\n",
       "      <td>NaN</td>\n",
       "      <td>NaN</td>\n",
       "      <td>NaN</td>\n",
       "      <td>True</td>\n",
       "      <td>NaN</td>\n",
       "      <td>...</td>\n",
       "      <td>10:0-22:0</td>\n",
       "      <td>0</td>\n",
       "      <td>45.540503</td>\n",
       "      <td>-73.599300</td>\n",
       "      <td>La Bastringue</td>\n",
       "      <td>Rosemont-La Petite-Patrie</td>\n",
       "      <td>H2G 1K7</td>\n",
       "      <td>5</td>\n",
       "      <td>4.0</td>\n",
       "      <td>QC</td>\n",
       "    </tr>\n",
       "    <tr>\n",
       "      <th>5</th>\n",
       "      <td>20235 N Cave Creek Rd, Ste 1115</td>\n",
       "      <td>NaN</td>\n",
       "      <td>NaN</td>\n",
       "      <td>NaN</td>\n",
       "      <td>NaN</td>\n",
       "      <td>NaN</td>\n",
       "      <td>NaN</td>\n",
       "      <td>NaN</td>\n",
       "      <td>True</td>\n",
       "      <td>NaN</td>\n",
       "      <td>...</td>\n",
       "      <td>5:30-20:0</td>\n",
       "      <td>1</td>\n",
       "      <td>33.671375</td>\n",
       "      <td>-112.030017</td>\n",
       "      <td>The Coffee Bean &amp; Tea Leaf</td>\n",
       "      <td>NaN</td>\n",
       "      <td>85024</td>\n",
       "      <td>63</td>\n",
       "      <td>4.0</td>\n",
       "      <td>AZ</td>\n",
       "    </tr>\n",
       "    <tr>\n",
       "      <th>7</th>\n",
       "      <td>3417 Derry Road E, Unit 103</td>\n",
       "      <td>NaN</td>\n",
       "      <td>NaN</td>\n",
       "      <td>none</td>\n",
       "      <td>NaN</td>\n",
       "      <td>NaN</td>\n",
       "      <td>NaN</td>\n",
       "      <td>NaN</td>\n",
       "      <td>NaN</td>\n",
       "      <td>NaN</td>\n",
       "      <td>...</td>\n",
       "      <td>NaN</td>\n",
       "      <td>1</td>\n",
       "      <td>43.712946</td>\n",
       "      <td>-79.632763</td>\n",
       "      <td>Thai One On</td>\n",
       "      <td>Ridgewood</td>\n",
       "      <td>L4T 1A8</td>\n",
       "      <td>7</td>\n",
       "      <td>2.0</td>\n",
       "      <td>ON</td>\n",
       "    </tr>\n",
       "  </tbody>\n",
       "</table>\n",
       "<p>5 rows × 59 columns</p>\n",
       "</div>"
      ],
      "text/plain": [
       "                           address attributes.AcceptsInsurance  \\\n",
       "0                1314 44 Avenue NE                         NaN   \n",
       "1                              NaN                         NaN   \n",
       "2              1335 rue Beaubien E                         NaN   \n",
       "5  20235 N Cave Creek Rd, Ste 1115                         NaN   \n",
       "7      3417 Derry Road E, Unit 103                         NaN   \n",
       "\n",
       "  attributes.AgesAllowed attributes.Alcohol  \\\n",
       "0                    NaN                NaN   \n",
       "1                    NaN               none   \n",
       "2                    NaN      beer_and_wine   \n",
       "5                    NaN                NaN   \n",
       "7                    NaN               none   \n",
       "\n",
       "                                 attributes.Ambience attributes.BYOB  \\\n",
       "0                                                NaN             NaN   \n",
       "1                                                NaN             NaN   \n",
       "2  {'romantic': False, 'intimate': False, 'classy...             NaN   \n",
       "5                                                NaN             NaN   \n",
       "7                                                NaN             NaN   \n",
       "\n",
       "  attributes.BYOBCorkage attributes.BestNights attributes.BikeParking  \\\n",
       "0                    NaN                   NaN                  False   \n",
       "1                    NaN                   NaN                  False   \n",
       "2                    NaN                   NaN                   True   \n",
       "5                    NaN                   NaN                   True   \n",
       "7                    NaN                   NaN                    NaN   \n",
       "\n",
       "  attributes.BusinessAcceptsBitcoin  ...  hours.Wednesday is_open   latitude  \\\n",
       "0                               NaN  ...        11:0-21:0       1  51.091813   \n",
       "1                               NaN  ...              NaN       0  35.960734   \n",
       "2                               NaN  ...        10:0-22:0       0  45.540503   \n",
       "5                               NaN  ...        5:30-20:0       1  33.671375   \n",
       "7                               NaN  ...              NaN       1  43.712946   \n",
       "\n",
       "    longitude                        name               neighborhood  \\\n",
       "0 -114.031675        Minhas Micro Brewery                        NaN   \n",
       "1 -114.939821         CK'S BBQ & Catering                        NaN   \n",
       "2  -73.599300               La Bastringue  Rosemont-La Petite-Patrie   \n",
       "5 -112.030017  The Coffee Bean & Tea Leaf                        NaN   \n",
       "7  -79.632763                 Thai One On                  Ridgewood   \n",
       "\n",
       "  postal_code review_count stars state  \n",
       "0     T2E 6L6           24   4.0    AB  \n",
       "1       89002            3   4.5    NV  \n",
       "2     H2G 1K7            5   4.0    QC  \n",
       "5       85024           63   4.0    AZ  \n",
       "7     L4T 1A8            7   2.0    ON  \n",
       "\n",
       "[5 rows x 59 columns]"
      ]
     },
     "execution_count": 2,
     "metadata": {},
     "output_type": "execute_result"
    }
   ],
   "source": [
    "#Determined which businesses were restaturants\n",
    "businesses = pd.read_csv('yelp_academic_dataset_business.csv')\n",
    "businesses.dropna(subset=['attributes.RestaurantsTakeOut'], inplace=True)\n",
    "businesses.dropna(subset=['attributes.RestaurantsPriceRange2'],inplace=True)\n",
    "businesses.head()"
   ]
  },
  {
   "cell_type": "markdown",
   "metadata": {},
   "source": [
    "# Data Selection"
   ]
  },
  {
   "cell_type": "markdown",
   "metadata": {},
   "source": [
    "The goal of this project is to cluster based on latitude and longitude in a given city to find which categories of food is more popular. Therefore the attributes we selected are business_id, name, categories, latitude, longitude, and city from the businesses dataset."
   ]
  },
  {
   "cell_type": "code",
   "execution_count": 3,
   "metadata": {},
   "outputs": [
    {
     "data": {
      "text/html": [
       "<div>\n",
       "<style scoped>\n",
       "    .dataframe tbody tr th:only-of-type {\n",
       "        vertical-align: middle;\n",
       "    }\n",
       "\n",
       "    .dataframe tbody tr th {\n",
       "        vertical-align: top;\n",
       "    }\n",
       "\n",
       "    .dataframe thead th {\n",
       "        text-align: right;\n",
       "    }\n",
       "</style>\n",
       "<table border=\"1\" class=\"dataframe\">\n",
       "  <thead>\n",
       "    <tr style=\"text-align: right;\">\n",
       "      <th></th>\n",
       "      <th>business_id</th>\n",
       "      <th>name</th>\n",
       "      <th>categories</th>\n",
       "      <th>latitude</th>\n",
       "      <th>longitude</th>\n",
       "      <th>city</th>\n",
       "    </tr>\n",
       "  </thead>\n",
       "  <tbody>\n",
       "    <tr>\n",
       "      <th>0</th>\n",
       "      <td>Apn5Q_b6Nz61Tq4XzPdf9A</td>\n",
       "      <td>Minhas Micro Brewery</td>\n",
       "      <td>Tours, Breweries, Pizza, Restaurants, Food, Ho...</td>\n",
       "      <td>51.091813</td>\n",
       "      <td>-114.031675</td>\n",
       "      <td>Calgary</td>\n",
       "    </tr>\n",
       "    <tr>\n",
       "      <th>1</th>\n",
       "      <td>AjEbIBw6ZFfln7ePHha9PA</td>\n",
       "      <td>CK'S BBQ &amp; Catering</td>\n",
       "      <td>Chicken Wings, Burgers, Caterers, Street Vendo...</td>\n",
       "      <td>35.960734</td>\n",
       "      <td>-114.939821</td>\n",
       "      <td>Henderson</td>\n",
       "    </tr>\n",
       "    <tr>\n",
       "      <th>2</th>\n",
       "      <td>O8S5hYJ1SMc8fA4QBtVujA</td>\n",
       "      <td>La Bastringue</td>\n",
       "      <td>Breakfast &amp; Brunch, Restaurants, French, Sandw...</td>\n",
       "      <td>45.540503</td>\n",
       "      <td>-73.599300</td>\n",
       "      <td>Montréal</td>\n",
       "    </tr>\n",
       "    <tr>\n",
       "      <th>5</th>\n",
       "      <td>45bWSZtniwPRiqlivpS8Og</td>\n",
       "      <td>The Coffee Bean &amp; Tea Leaf</td>\n",
       "      <td>Coffee &amp; Tea, Food</td>\n",
       "      <td>33.671375</td>\n",
       "      <td>-112.030017</td>\n",
       "      <td>Phoenix</td>\n",
       "    </tr>\n",
       "    <tr>\n",
       "      <th>7</th>\n",
       "      <td>6OuOZAok8ikONMS_T3EzXg</td>\n",
       "      <td>Thai One On</td>\n",
       "      <td>Restaurants, Thai</td>\n",
       "      <td>43.712946</td>\n",
       "      <td>-79.632763</td>\n",
       "      <td>Mississauga</td>\n",
       "    </tr>\n",
       "  </tbody>\n",
       "</table>\n",
       "</div>"
      ],
      "text/plain": [
       "              business_id                        name  \\\n",
       "0  Apn5Q_b6Nz61Tq4XzPdf9A        Minhas Micro Brewery   \n",
       "1  AjEbIBw6ZFfln7ePHha9PA         CK'S BBQ & Catering   \n",
       "2  O8S5hYJ1SMc8fA4QBtVujA               La Bastringue   \n",
       "5  45bWSZtniwPRiqlivpS8Og  The Coffee Bean & Tea Leaf   \n",
       "7  6OuOZAok8ikONMS_T3EzXg                 Thai One On   \n",
       "\n",
       "                                          categories   latitude   longitude  \\\n",
       "0  Tours, Breweries, Pizza, Restaurants, Food, Ho...  51.091813 -114.031675   \n",
       "1  Chicken Wings, Burgers, Caterers, Street Vendo...  35.960734 -114.939821   \n",
       "2  Breakfast & Brunch, Restaurants, French, Sandw...  45.540503  -73.599300   \n",
       "5                                 Coffee & Tea, Food  33.671375 -112.030017   \n",
       "7                                  Restaurants, Thai  43.712946  -79.632763   \n",
       "\n",
       "          city  \n",
       "0      Calgary  \n",
       "1    Henderson  \n",
       "2     Montréal  \n",
       "5      Phoenix  \n",
       "7  Mississauga  "
      ]
     },
     "execution_count": 3,
     "metadata": {},
     "output_type": "execute_result"
    }
   ],
   "source": [
    "cleaned_businesses = businesses[['business_id','name','categories','latitude','longitude','city']]\n",
    "cleaned_businesses.head()"
   ]
  },
  {
   "cell_type": "code",
   "execution_count": 4,
   "metadata": {},
   "outputs": [],
   "source": [
    "#Put the cleaned dataframe into csv so it can be used in another notebook if needed\n",
    "cleaned_businesses.to_csv('cleaned_businesses.csv')\n",
    "data = cleaned_businesses"
   ]
  },
  {
   "cell_type": "markdown",
   "metadata": {},
   "source": [
    "# Clustering"
   ]
  },
  {
   "cell_type": "code",
   "execution_count": 5,
   "metadata": {},
   "outputs": [],
   "source": [
    "#common category tags to ignore\n",
    "ignore = [\"Restaurants\", \"Food\", \"Nightlife\"]\n",
    "#prints the count of unique items in array label\n",
    "def label_count(labels):\n",
    "\n",
    "    lab_count = dict()\n",
    "\n",
    "    for x in labels:\n",
    "        if x in lab_count:\n",
    "            lab_count[x] += 1\n",
    "        else:\n",
    "            lab_count[x] = 1\n",
    "\n",
    "    print(\"dictionary length:\", len(lab_count))\n",
    "    for k, v in lab_count.items():\n",
    "        print(k,\"\\t\",v)\n",
    "    return\n"
   ]
  },
  {
   "cell_type": "code",
   "execution_count": 6,
   "metadata": {},
   "outputs": [],
   "source": [
    "#prints the top 5 categories for each cluster\n",
    "#grouped is an dataframe with \"clusters\" from 0 to n and \"categories\"\n",
    "#n is the number of clusters\n",
    "def print_Categories(grouped, n):\n",
    "\n",
    "    cat_list = [dict() for x in range(n)]\n",
    "\n",
    "    for index, row in grouped.iterrows():\n",
    "        for x in range(n):\n",
    "            if (row[\"clusters\"] == x):\n",
    "                cats = row[\"categories\"]\n",
    "                words = [x.strip() for x in cats.split(\",\")]\n",
    "                for word in words:\n",
    "                    if word not in ignore:\n",
    "                        if word in cat_list[x]:\n",
    "                            cat_list[x][word] += 1\n",
    "                        else:\n",
    "                            cat_list[x][word] = 1\n",
    "                break\n",
    "\n",
    "\n",
    "    for x in range(n):\n",
    "        print(\"\\n\\n\", x , \"category dictionary\")\n",
    "        sorted_x = sorted(cat_list[x].items(), key=lambda kv: kv[1])\n",
    "        sorted_x = list(reversed(sorted_x))\n",
    "        for y in range(5):\n",
    "            if(y < len(sorted_x)):\n",
    "                print(sorted_x[y])\n",
    "    return"
   ]
  },
  {
   "cell_type": "code",
   "execution_count": 13,
   "metadata": {},
   "outputs": [
    {
     "name": "stdout",
     "output_type": "stream",
     "text": [
      "Enter a city Toronto\n"
     ]
    }
   ],
   "source": [
    "#Prompt for city name. Choose from list below.\n",
    "#List of cities available \n",
    "data['city'].unique()\n",
    "city = input(\"Enter a city \")"
   ]
  },
  {
   "cell_type": "code",
   "execution_count": 20,
   "metadata": {},
   "outputs": [
    {
     "data": {
      "text/plain": [
       "5330"
      ]
     },
     "execution_count": 20,
     "metadata": {},
     "output_type": "execute_result"
    }
   ],
   "source": [
    "data = cleaned_businesses.loc[cleaned_businesses['city'] == city]\n",
    "count_row = data.shape[0] \n",
    "train_index = int(count_row * .70)"
   ]
  },
  {
   "cell_type": "code",
   "execution_count": 21,
   "metadata": {},
   "outputs": [],
   "source": [
    "#randomize order of data\n",
    "data = data.sample(frac = 1, random_state = 1)\n",
    "\n",
    "#separate into train and test data\n",
    "train = data.iloc[0:train_index,:]\n",
    "\n",
    "#use all data for agg, DBScan, Birch\n",
    "test = data.iloc[train_index:,:]"
   ]
  },
  {
   "cell_type": "code",
   "execution_count": 22,
   "metadata": {},
   "outputs": [],
   "source": [
    "#separate the checkin data to cluster on\n",
    "lat_lon = train.iloc[:, 3:5]\n",
    "lat_lon = lat_lon.fillna(0)\n",
    "\n",
    "full_lat_lon = data.iloc[:, 3:5]\n",
    "full_lat_lon = full_lat_lon.fillna(0)"
   ]
  },
  {
   "cell_type": "markdown",
   "metadata": {},
   "source": [
    "## K-means"
   ]
  },
  {
   "cell_type": "markdown",
   "metadata": {},
   "source": [
    "First we clustered based on the "
   ]
  },
  {
   "cell_type": "code",
   "execution_count": 23,
   "metadata": {},
   "outputs": [],
   "source": [
    "from sklearn.cluster import KMeans"
   ]
  },
  {
   "cell_type": "code",
   "execution_count": 28,
   "metadata": {},
   "outputs": [],
   "source": [
    "n=8\n",
    "full = KMeans(n_clusters = n, random_state = 0).fit(full_lat_lon)\n",
    "cluster = KMeans(n_clusters = n, random_state = 0).fit(lat_lon)\n",
    "full_labels = full.labels_\n",
    "labels = cluster.labels_"
   ]
  },
  {
   "cell_type": "code",
   "execution_count": 29,
   "metadata": {},
   "outputs": [
    {
     "name": "stdout",
     "output_type": "stream",
     "text": [
      "\n",
      "\n",
      "Clusters:\n",
      "dictionary length: 8\n",
      "3 \t 2158\n",
      "6 \t 638\n",
      "2 \t 249\n",
      "4 \t 276\n",
      "1 \t 974\n",
      "0 \t 428\n",
      "7 \t 158\n",
      "5 \t 449\n"
     ]
    },
    {
     "name": "stderr",
     "output_type": "stream",
     "text": [
      "/anaconda3/lib/python3.6/site-packages/ipykernel_launcher.py:6: SettingWithCopyWarning: \n",
      "A value is trying to be set on a copy of a slice from a DataFrame.\n",
      "Try using .loc[row_indexer,col_indexer] = value instead\n",
      "\n",
      "See the caveats in the documentation: http://pandas.pydata.org/pandas-docs/stable/indexing.html#indexing-view-versus-copy\n",
      "  \n"
     ]
    },
    {
     "name": "stdout",
     "output_type": "stream",
     "text": [
      "\n",
      "\n",
      " 0 category dictionary\n",
      "('Chinese', 117)\n",
      "('Coffee & Tea', 34)\n",
      "('Indian', 32)\n",
      "('Fast Food', 30)\n",
      "('Desserts', 29)\n",
      "\n",
      "\n",
      " 1 category dictionary\n",
      "('Bars', 143)\n",
      "('Coffee & Tea', 141)\n",
      "('Breakfast & Brunch', 96)\n",
      "('Italian', 82)\n",
      "('Canadian (New)', 79)\n",
      "\n",
      "\n",
      " 2 category dictionary\n",
      "('Coffee & Tea', 35)\n",
      "('Chinese', 33)\n",
      "('Japanese', 31)\n",
      "('Korean', 29)\n",
      "('Desserts', 26)\n",
      "\n",
      "\n",
      " 3 category dictionary\n",
      "('Coffee & Tea', 310)\n",
      "('Bars', 259)\n",
      "('Sandwiches', 195)\n",
      "('Canadian (New)', 185)\n",
      "('Breakfast & Brunch', 166)\n",
      "\n",
      "\n",
      " 4 category dictionary\n",
      "('Coffee & Tea', 42)\n",
      "('Bars', 26)\n",
      "('Cafes', 25)\n",
      "('Breakfast & Brunch', 23)\n",
      "('Specialty Food', 23)\n",
      "\n",
      "\n",
      " 5 category dictionary\n",
      "('Coffee & Tea', 49)\n",
      "('Italian', 45)\n",
      "('Japanese', 41)\n",
      "('Sushi Bars', 36)\n",
      "('Breakfast & Brunch', 33)\n",
      "\n",
      "\n",
      " 6 category dictionary\n",
      "('Coffee & Tea', 74)\n",
      "('Bars', 70)\n",
      "('Breakfast & Brunch', 55)\n",
      "('Canadian (New)', 54)\n",
      "('Pizza', 48)\n",
      "\n",
      "\n",
      " 7 category dictionary\n",
      "('Vietnamese', 16)\n",
      "('Coffee & Tea', 15)\n",
      "('Mediterranean', 14)\n",
      "('Fast Food', 14)\n",
      "('Middle Eastern', 13)\n"
     ]
    }
   ],
   "source": [
    "#display the clusters\n",
    "print(\"\\n\\nClusters:\")\n",
    "label_count(labels)\n",
    "\n",
    "#attach the clusters to other data\n",
    "train[\"clusters\"] = labels\n",
    "info = [\"categories\", \"name\", \"clusters\"]\n",
    "grouped = train[info]\n",
    "grouped = grouped.fillna(\"\")\n",
    "\n",
    "info = [\"latitude\", \"longitude\", \"clusters\"]\n",
    "#use for visualization\n",
    "visualization_data = train[info]\n",
    "visualization_data = visualization_data.fillna(\"\")\n",
    "\n",
    "#print(grouped.head())\n",
    "#display categories within clusters\n",
    "print_Categories(grouped, n)"
   ]
  },
  {
   "cell_type": "code",
   "execution_count": 30,
   "metadata": {},
   "outputs": [],
   "source": [
    "import matplotlib.pyplot as plt"
   ]
  },
  {
   "cell_type": "code",
   "execution_count": 31,
   "metadata": {},
   "outputs": [
    {
     "data": {
      "image/png": "[encoded data removed]",
      "text/plain": [
       "<Figure size 936x792 with 1 Axes>"
      ]
     },
     "metadata": {},
     "output_type": "display_data"
    }
   ],
   "source": [
    "plt.figure(figsize=(13, 11))  \n",
    "plt.scatter(train['latitude'], train['longitude'], c=train[\"clusters\"], cmap='rainbow')    \n",
    "plt.scatter(cluster.cluster_centers_[:,0] ,cluster.cluster_centers_[:,1], color='black') \n",
    "plt.figure(1, figsize=(12,2))\n",
    "plt.xlabel('latitude')\n",
    "plt.ylabel('longitude')\n",
    "plt.title('K-means')\n",
    "plt.show()\n"
   ]
  },
  {
   "cell_type": "markdown",
   "metadata": {},
   "source": [
    "## Agglomerative "
   ]
  },
  {
   "cell_type": "code",
   "execution_count": null,
   "metadata": {},
   "outputs": [],
   "source": []
  },
  {
   "cell_type": "code",
   "execution_count": null,
   "metadata": {},
   "outputs": [],
   "source": []
  }
 ],
 "metadata": {
  "kernelspec": {
   "display_name": "Python 3",
   "language": "python",
   "name": "python3"
  },
  "language_info": {
   "codemirror_mode": {
    "name": "ipython",
    "version": 3
   },
   "file_extension": ".py",
   "mimetype": "text/x-python",
   "name": "python",
   "nbconvert_exporter": "python",
   "pygments_lexer": "ipython3",
   "version": "3.6.5"
  }
 },
 "nbformat": 4,
 "nbformat_minor": 2
}
