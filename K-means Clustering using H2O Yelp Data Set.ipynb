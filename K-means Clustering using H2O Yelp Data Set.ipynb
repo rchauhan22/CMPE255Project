{
 "cells": [
  {
   "cell_type": "markdown",
   "metadata": {},
   "source": [
    "# K-means with H2O\n",
    "\n",
    "We performed K-means clustering on the longitude and latitude. Inorder to compare results from the k-means performend on manual results. We observed that at the end the top 5 categories stayed almost the same as the results from the manual results."
   ]
  },
  {
   "cell_type": "code",
   "execution_count": 1,
   "metadata": {},
   "outputs": [],
   "source": [
    "import h2o\n",
    "import imp\n",
    "from h2o.estimators.kmeans import H2OKMeansEstimator"
   ]
  },
  {
   "cell_type": "code",
   "execution_count": 2,
   "metadata": {},
   "outputs": [],
   "source": [
    "#common category tags to ignore\n",
    "ignore = [\"Restaurants\", \"Food\", \"Nightlife\"]\n",
    "#prints the count of unique items in array label\n",
    "def label_count(labels):\n",
    "    lab_count = dict()\n",
    "\n",
    "    for x in labels:\n",
    "        if x in lab_count:\n",
    "            lab_count[x] += 1\n",
    "        else:\n",
    "            lab_count[x] = 1\n",
    "\n",
    "    print(\"Number of Clusters:\", len(lab_count))\n",
    "    for k, v in lab_count.items():\n",
    "        print(k,\"\\t\",v)\n",
    "    return len(lab_count)\n",
    "#prints the top 5 categories for each cluster\n",
    "#grouped is an dataframe with \"clusters\" from 0 to n and \"categories\"\n",
    "#n is the number of clusters\n",
    "def print_Categories(grouped, n):\n",
    "\n",
    "    cat_list = [dict() for x in range(n)]\n",
    "\n",
    "    for index, row in grouped.iterrows():\n",
    "        for x in range(n):\n",
    "            if (row[\"clusters\"] == x):\n",
    "                cats = row[\"categories\"]\n",
    "                words = [x.strip() for x in cats.split(\",\")]\n",
    "                for word in words:\n",
    "                    if word not in ignore:\n",
    "                        if word in cat_list[x]:\n",
    "                            cat_list[x][word] += 1\n",
    "                        else:\n",
    "                            cat_list[x][word] = 1\n",
    "                break\n",
    "\n",
    "\n",
    "    for x in range(n):\n",
    "        print(\"\\n\\n\", x , \"category dictionary\")\n",
    "        sorted_x = sorted(cat_list[x].items(), key=lambda kv: kv[1])\n",
    "        sorted_x = list(reversed(sorted_x))\n",
    "        for y in range(5):\n",
    "            if(y < len(sorted_x)):\n",
    "                print(sorted_x[y])\n",
    "    return"
   ]
  },
  {
   "cell_type": "code",
   "execution_count": 3,
   "metadata": {},
   "outputs": [
    {
     "name": "stdout",
     "output_type": "stream",
     "text": [
      "Checking whether there is an H2O instance running at http://localhost:54321..... not found.\n",
      "Attempting to start a local H2O server...\n",
      "  Java Version: java version \"1.8.0_111\"; Java(TM) SE Runtime Environment (build 1.8.0_111-b14); Java HotSpot(TM) 64-Bit Server VM (build 25.111-b14, mixed mode)\n",
      "  Starting server from /anaconda3/lib/python3.6/site-packages/h2o/backend/bin/h2o.jar\n",
      "  Ice root: /var/folders/32/psx5k33x1qj6mhlx0xkdqr0h0000gn/T/tmp1khtunor\n",
      "  JVM stdout: /var/folders/32/psx5k33x1qj6mhlx0xkdqr0h0000gn/T/tmp1khtunor/h2o_sramini_started_from_python.out\n",
      "  JVM stderr: /var/folders/32/psx5k33x1qj6mhlx0xkdqr0h0000gn/T/tmp1khtunor/h2o_sramini_started_from_python.err\n",
      "  Server is running at http://127.0.0.1:54321\n",
      "Connecting to H2O server at http://127.0.0.1:54321... successful.\n"
     ]
    },
    {
     "data": {
      "text/html": [
       "<div style=\"overflow:auto\"><table style=\"width:50%\"><tr><td>H2O cluster uptime:</td>\n",
       "<td>03 secs</td></tr>\n",
       "<tr><td>H2O cluster timezone:</td>\n",
       "<td>America/Los_Angeles</td></tr>\n",
       "<tr><td>H2O data parsing timezone:</td>\n",
       "<td>UTC</td></tr>\n",
       "<tr><td>H2O cluster version:</td>\n",
       "<td>3.22.0.2</td></tr>\n",
       "<tr><td>H2O cluster version age:</td>\n",
       "<td>19 days </td></tr>\n",
       "<tr><td>H2O cluster name:</td>\n",
       "<td>H2O_from_python_sramini_48gzoz</td></tr>\n",
       "<tr><td>H2O cluster total nodes:</td>\n",
       "<td>1</td></tr>\n",
       "<tr><td>H2O cluster free memory:</td>\n",
       "<td>1.778 Gb</td></tr>\n",
       "<tr><td>H2O cluster total cores:</td>\n",
       "<td>4</td></tr>\n",
       "<tr><td>H2O cluster allowed cores:</td>\n",
       "<td>4</td></tr>\n",
       "<tr><td>H2O cluster status:</td>\n",
       "<td>accepting new members, healthy</td></tr>\n",
       "<tr><td>H2O connection url:</td>\n",
       "<td>http://127.0.0.1:54321</td></tr>\n",
       "<tr><td>H2O connection proxy:</td>\n",
       "<td>None</td></tr>\n",
       "<tr><td>H2O internal security:</td>\n",
       "<td>False</td></tr>\n",
       "<tr><td>H2O API Extensions:</td>\n",
       "<td>XGBoost, Algos, AutoML, Core V3, Core V4</td></tr>\n",
       "<tr><td>Python version:</td>\n",
       "<td>3.6.5 final</td></tr></table></div>"
      ],
      "text/plain": [
       "--------------------------  ----------------------------------------\n",
       "H2O cluster uptime:         03 secs\n",
       "H2O cluster timezone:       America/Los_Angeles\n",
       "H2O data parsing timezone:  UTC\n",
       "H2O cluster version:        3.22.0.2\n",
       "H2O cluster version age:    19 days\n",
       "H2O cluster name:           H2O_from_python_sramini_48gzoz\n",
       "H2O cluster total nodes:    1\n",
       "H2O cluster free memory:    1.778 Gb\n",
       "H2O cluster total cores:    4\n",
       "H2O cluster allowed cores:  4\n",
       "H2O cluster status:         accepting new members, healthy\n",
       "H2O connection url:         http://127.0.0.1:54321\n",
       "H2O connection proxy:\n",
       "H2O internal security:      False\n",
       "H2O API Extensions:         XGBoost, Algos, AutoML, Core V3, Core V4\n",
       "Python version:             3.6.5 final\n",
       "--------------------------  ----------------------------------------"
      ]
     },
     "metadata": {},
     "output_type": "display_data"
    }
   ],
   "source": [
    "# Start a local instance of the H2O engine.\n",
    "h2o.init();"
   ]
  },
  {
   "cell_type": "code",
   "execution_count": 4,
   "metadata": {},
   "outputs": [
    {
     "name": "stdout",
     "output_type": "stream",
     "text": [
      "Parse progress: |█████████████████████████████████████████████████████████| 100%\n",
      "Rows:58365\n",
      "Cols:7\n",
      "\n",
      "\n"
     ]
    },
    {
     "data": {
      "text/html": [
       "<table>\n",
       "<thead>\n",
       "<tr><th>       </th><th>C1               </th><th>business_id           </th><th>name                      </th><th>categories                                                                                                           </th><th>latitude          </th><th>longitude          </th><th>city       </th></tr>\n",
       "</thead>\n",
       "<tbody>\n",
       "<tr><td>type   </td><td>int              </td><td>string                </td><td>enum                      </td><td>enum                                                                                                                 </td><td>real              </td><td>real               </td><td>enum       </td></tr>\n",
       "<tr><td>mins   </td><td>0.0              </td><td>NaN                   </td><td>                          </td><td>                                                                                                                     </td><td>-71.7539412528    </td><td>-123.5874264       </td><td>           </td></tr>\n",
       "<tr><td>mean   </td><td>93123.0799280391 </td><td>NaN                   </td><td>                          </td><td>                                                                                                                     </td><td>39.811925331435226</td><td>-92.89780926842681 </td><td>           </td></tr>\n",
       "<tr><td>maxs   </td><td>188590.0         </td><td>NaN                   </td><td>                          </td><td>                                                                                                                     </td><td>59.4381813808     </td><td>115.086769         </td><td>           </td></tr>\n",
       "<tr><td>sigma  </td><td>54397.75990221571</td><td>NaN                   </td><td>                          </td><td>                                                                                                                     </td><td>5.309953865563447 </td><td>17.66278107297204  </td><td>           </td></tr>\n",
       "<tr><td>zeros  </td><td>1                </td><td>0                     </td><td>                          </td><td>                                                                                                                     </td><td>0                 </td><td>0                  </td><td>           </td></tr>\n",
       "<tr><td>missing</td><td>0                </td><td>0                     </td><td>0                         </td><td>23                                                                                                                   </td><td>0                 </td><td>0                  </td><td>3          </td></tr>\n",
       "<tr><td>0      </td><td>0.0              </td><td>Apn5Q_b6Nz61Tq4XzPdf9A</td><td>Minhas Micro Brewery      </td><td>Tours, Breweries, Pizza, Restaurants, Food, Hotels & Travel                                                          </td><td>51.0918130155     </td><td>-114.031674872     </td><td>Calgary    </td></tr>\n",
       "<tr><td>1      </td><td>1.0              </td><td>AjEbIBw6ZFfln7ePHha9PA</td><td>CK'S BBQ & Catering       </td><td>Chicken Wings, Burgers, Caterers, Street Vendors, Barbeque, Food Trucks, Food, Restaurants, Event Planning & Services</td><td>35.960733700000006</td><td>-114.939821        </td><td>Henderson  </td></tr>\n",
       "<tr><td>2      </td><td>2.0              </td><td>O8S5hYJ1SMc8fA4QBtVujA</td><td>La Bastringue             </td><td>Breakfast & Brunch, Restaurants, French, Sandwiches, Cafes                                                           </td><td>45.5405031        </td><td>-73.5993003        </td><td>Montréal   </td></tr>\n",
       "<tr><td>3      </td><td>5.0              </td><td>45bWSZtniwPRiqlivpS8Og</td><td>The Coffee Bean & Tea Leaf</td><td>Coffee & Tea, Food                                                                                                   </td><td>33.6713751        </td><td>-112.03001709999998</td><td>Phoenix    </td></tr>\n",
       "<tr><td>4      </td><td>7.0              </td><td>6OuOZAok8ikONMS_T3EzXg</td><td>Thai One On               </td><td>Restaurants, Thai                                                                                                    </td><td>43.7129464        </td><td>-79.63276309999999 </td><td>Mississauga</td></tr>\n",
       "<tr><td>5      </td><td>8.0              </td><td>8-NRKkPY1UiFXW20WXKiXg</td><td>Filiberto's Mexican Food  </td><td>Mexican, Restaurants                                                                                                 </td><td>33.4481059352     </td><td>-112.341302074     </td><td>Avondale   </td></tr>\n",
       "<tr><td>6      </td><td>11.0             </td><td>tZnSodhPwNr4bzrwJ1CSbw</td><td>Southern Accent Restaurant</td><td>Cajun/Creole, Southern, Restaurants                                                                                  </td><td>43.6641249        </td><td>-79.41188609999999 </td><td>Toronto    </td></tr>\n",
       "<tr><td>7      </td><td>12.0             </td><td>_c3ixq9jYKxhLUB0czi0ug</td><td>Original Hamburger Works  </td><td>Bars, Sports Bars, Dive Bars, Burgers, Nightlife, Sandwiches, Restaurants                                            </td><td>33.4798071        </td><td>-112.0911877       </td><td>Phoenix    </td></tr>\n",
       "<tr><td>8      </td><td>13.0             </td><td>bBUMib8l6Me1ZB1_Qkezkg</td><td>Mysore Indian Cuisine     </td><td>Restaurants, Pakistani, Indian, Middle Eastern                                                                       </td><td>45.51803579999999 </td><td>-73.5821744        </td><td>Montréal   </td></tr>\n",
       "<tr><td>9      </td><td>16.0             </td><td>r89Re4FNgVWHgBfjCVZyVw</td><td>Harlow                    </td><td>Nightlife, Bars, American (Traditional), Tapas/Small Plates, Poutineries, Supper Clubs, Restaurants, Tapas Bars      </td><td>45.507699         </td><td>-73.55340699999999 </td><td>Montréal   </td></tr>\n",
       "</tbody>\n",
       "</table>"
      ]
     },
     "metadata": {},
     "output_type": "display_data"
    }
   ],
   "source": [
    "businesses = h2o.import_file(path=\"cleaned_businesses.csv\")\n",
    "businesses.describe()"
   ]
  },
  {
   "cell_type": "code",
   "execution_count": 5,
   "metadata": {},
   "outputs": [],
   "source": [
    "mask = businesses[\"city\"].ascharacter() == \"Toronto\"\n",
    "businesses = businesses[mask, : ]\n"
   ]
  },
  {
   "cell_type": "code",
   "execution_count": 6,
   "metadata": {},
   "outputs": [
    {
     "name": "stdout",
     "output_type": "stream",
     "text": [
      "kmeans Model Build progress: |████████████████████████████████████████████| 100%\n"
     ]
    }
   ],
   "source": [
    "m = H2OKMeansEstimator(k=8, standardize=False, init=\"Random\")\n",
    "m.train(training_frame=businesses[:, [\"latitude\", \"longitude\"]])"
   ]
  },
  {
   "cell_type": "code",
   "execution_count": 7,
   "metadata": {},
   "outputs": [
    {
     "name": "stdout",
     "output_type": "stream",
     "text": [
      "Model Details\n",
      "=============\n",
      "H2OKMeansEstimator :  K-means\n",
      "Model Key:  KMeans_model_python_1544573534259_1\n",
      "\n",
      "\n",
      "ModelMetricsClustering: kmeans\n",
      "** Reported on train data. **\n",
      "\n",
      "MSE: NaN\n",
      "RMSE: NaN\n",
      "Total Within Cluster Sum of Square Error: 5.774929386325908\n",
      "Total Sum of Square Error to Grand Mean: 43.17201388068497\n",
      "Between Cluster Sum of Square Error: 37.39708449435906\n",
      "Centroid Statistics: \n"
     ]
    },
    {
     "data": {
      "text/html": [
       "<div style=\"overflow:auto\"><table style=\"width:50%\"><tr><td><b></b></td>\n",
       "<td><b>centroid</b></td>\n",
       "<td><b>size</b></td>\n",
       "<td><b>within_cluster_sum_of_squares</b></td></tr>\n",
       "<tr><td></td>\n",
       "<td>1.0</td>\n",
       "<td>2888.0</td>\n",
       "<td>0.5481884</td></tr>\n",
       "<tr><td></td>\n",
       "<td>2.0</td>\n",
       "<td>890.0</td>\n",
       "<td>0.6872611</td></tr>\n",
       "<tr><td></td>\n",
       "<td>3.0</td>\n",
       "<td>621.0</td>\n",
       "<td>1.5541130</td></tr>\n",
       "<tr><td></td>\n",
       "<td>4.0</td>\n",
       "<td>493.0</td>\n",
       "<td>0.7211735</td></tr>\n",
       "<tr><td></td>\n",
       "<td>5.0</td>\n",
       "<td>436.0</td>\n",
       "<td>0.6650897</td></tr>\n",
       "<tr><td></td>\n",
       "<td>6.0</td>\n",
       "<td>1402.0</td>\n",
       "<td>0.4484816</td></tr>\n",
       "<tr><td></td>\n",
       "<td>7.0</td>\n",
       "<td>592.0</td>\n",
       "<td>0.3336805</td></tr>\n",
       "<tr><td></td>\n",
       "<td>8.0</td>\n",
       "<td>293.0</td>\n",
       "<td>0.8169416</td></tr></table></div>"
      ],
      "text/plain": [
       "    centroid    size    within_cluster_sum_of_squares\n",
       "--  ----------  ------  -------------------------------\n",
       "    1           2888    0.548188\n",
       "    2           890     0.687261\n",
       "    3           621     1.55411\n",
       "    4           493     0.721174\n",
       "    5           436     0.66509\n",
       "    6           1402    0.448482\n",
       "    7           592     0.333681\n",
       "    8           293     0.816942"
      ]
     },
     "metadata": {},
     "output_type": "display_data"
    },
    {
     "name": "stdout",
     "output_type": "stream",
     "text": [
      "Scoring History: \n"
     ]
    },
    {
     "data": {
      "text/html": [
       "<div style=\"overflow:auto\"><table style=\"width:50%\"><tr><td><b></b></td>\n",
       "<td><b>timestamp</b></td>\n",
       "<td><b>duration</b></td>\n",
       "<td><b>iterations</b></td>\n",
       "<td><b>number_of_reassigned_observations</b></td>\n",
       "<td><b>within_cluster_sum_of_squares</b></td></tr>\n",
       "<tr><td></td>\n",
       "<td>2018-12-11 16:12:36</td>\n",
       "<td> 0.047 sec</td>\n",
       "<td>0.0</td>\n",
       "<td>nan</td>\n",
       "<td>nan</td></tr>\n",
       "<tr><td></td>\n",
       "<td>2018-12-11 16:12:37</td>\n",
       "<td> 0.173 sec</td>\n",
       "<td>1.0</td>\n",
       "<td>7615.0</td>\n",
       "<td>11.0274128</td></tr>\n",
       "<tr><td></td>\n",
       "<td>2018-12-11 16:12:37</td>\n",
       "<td> 0.217 sec</td>\n",
       "<td>2.0</td>\n",
       "<td>1169.0</td>\n",
       "<td>7.4579160</td></tr>\n",
       "<tr><td></td>\n",
       "<td>2018-12-11 16:12:37</td>\n",
       "<td> 0.239 sec</td>\n",
       "<td>3.0</td>\n",
       "<td>536.0</td>\n",
       "<td>6.8123190</td></tr>\n",
       "<tr><td></td>\n",
       "<td>2018-12-11 16:12:37</td>\n",
       "<td> 0.270 sec</td>\n",
       "<td>4.0</td>\n",
       "<td>427.0</td>\n",
       "<td>6.3532464</td></tr>\n",
       "<tr><td></td>\n",
       "<td>2018-12-11 16:12:37</td>\n",
       "<td> 0.295 sec</td>\n",
       "<td>5.0</td>\n",
       "<td>398.0</td>\n",
       "<td>6.2130933</td></tr>\n",
       "<tr><td></td>\n",
       "<td>2018-12-11 16:12:37</td>\n",
       "<td> 0.321 sec</td>\n",
       "<td>6.0</td>\n",
       "<td>398.0</td>\n",
       "<td>6.0992310</td></tr>\n",
       "<tr><td></td>\n",
       "<td>2018-12-11 16:12:37</td>\n",
       "<td> 0.348 sec</td>\n",
       "<td>7.0</td>\n",
       "<td>230.0</td>\n",
       "<td>5.9977235</td></tr>\n",
       "<tr><td></td>\n",
       "<td>2018-12-11 16:12:37</td>\n",
       "<td> 0.384 sec</td>\n",
       "<td>8.0</td>\n",
       "<td>241.0</td>\n",
       "<td>5.9493553</td></tr>\n",
       "<tr><td></td>\n",
       "<td>2018-12-11 16:12:37</td>\n",
       "<td> 0.399 sec</td>\n",
       "<td>9.0</td>\n",
       "<td>239.0</td>\n",
       "<td>5.8876245</td></tr>\n",
       "<tr><td></td>\n",
       "<td>2018-12-11 16:12:37</td>\n",
       "<td> 0.412 sec</td>\n",
       "<td>10.0</td>\n",
       "<td>151.0</td>\n",
       "<td>5.8116922</td></tr></table></div>"
      ],
      "text/plain": [
       "    timestamp            duration    iterations    number_of_reassigned_observations    within_cluster_sum_of_squares\n",
       "--  -------------------  ----------  ------------  -----------------------------------  -------------------------------\n",
       "    2018-12-11 16:12:36  0.047 sec   0             nan                                  nan\n",
       "    2018-12-11 16:12:37  0.173 sec   1             7615                                 11.0274\n",
       "    2018-12-11 16:12:37  0.217 sec   2             1169                                 7.45792\n",
       "    2018-12-11 16:12:37  0.239 sec   3             536                                  6.81232\n",
       "    2018-12-11 16:12:37  0.270 sec   4             427                                  6.35325\n",
       "    2018-12-11 16:12:37  0.295 sec   5             398                                  6.21309\n",
       "    2018-12-11 16:12:37  0.321 sec   6             398                                  6.09923\n",
       "    2018-12-11 16:12:37  0.348 sec   7             230                                  5.99772\n",
       "    2018-12-11 16:12:37  0.384 sec   8             241                                  5.94936\n",
       "    2018-12-11 16:12:37  0.399 sec   9             239                                  5.88762\n",
       "    2018-12-11 16:12:37  0.412 sec   10            151                                  5.81169"
      ]
     },
     "metadata": {},
     "output_type": "display_data"
    },
    {
     "name": "stdout",
     "output_type": "stream",
     "text": [
      "\n"
     ]
    }
   ],
   "source": [
    "print(m)"
   ]
  },
  {
   "cell_type": "code",
   "execution_count": 12,
   "metadata": {},
   "outputs": [
    {
     "name": "stdout",
     "output_type": "stream",
     "text": [
      "kmeans prediction progress: |█████████████████████████████████████████████| 100%\n"
     ]
    }
   ],
   "source": [
    "businesses[\"clusters\"] = m.predict(businesses[:, [\"latitude\", \"longitude\"]])\n",
    "dfB = businesses.as_data_frame(use_pandas=True)"
   ]
  },
  {
   "cell_type": "code",
   "execution_count": 14,
   "metadata": {},
   "outputs": [
    {
     "name": "stdout",
     "output_type": "stream",
     "text": [
      "\n",
      "\n",
      "Clusters:\n",
      "Number of Clusters: 8\n",
      "5 \t 1402\n",
      "0 \t 2888\n",
      "2 \t 621\n",
      "7 \t 293\n",
      "6 \t 592\n",
      "4 \t 436\n",
      "1 \t 890\n",
      "3 \t 493\n",
      "\n",
      "\n",
      " 0 category dictionary\n",
      "('Coffee & Tea', 430)\n",
      "('Bars', 333)\n",
      "('Sandwiches', 270)\n",
      "('Canadian (New)', 254)\n",
      "('Breakfast & Brunch', 230)\n",
      "\n",
      "\n",
      " 1 category dictionary\n",
      "('Coffee & Tea', 101)\n",
      "('Bars', 100)\n",
      "('Breakfast & Brunch', 84)\n",
      "('Canadian (New)', 75)\n",
      "('Pizza', 65)\n",
      "\n",
      "\n",
      " 2 category dictionary\n",
      "('Chinese', 170)\n",
      "('Coffee & Tea', 52)\n",
      "('Indian', 43)\n",
      "('Desserts', 42)\n",
      "('Fast Food', 40)\n",
      "\n",
      "\n",
      " 3 category dictionary\n",
      "('Coffee & Tea', 64)\n",
      "('Pizza', 40)\n",
      "('Bakeries', 39)\n",
      "('Specialty Food', 38)\n",
      "('Canadian (New)', 37)\n",
      "\n",
      "\n",
      " 4 category dictionary\n",
      "('Coffee & Tea', 51)\n",
      "('Japanese', 50)\n",
      "('Korean', 49)\n",
      "('Chinese', 48)\n",
      "('Desserts', 37)\n",
      "\n",
      "\n",
      " 5 category dictionary\n",
      "('Bars', 222)\n",
      "('Coffee & Tea', 185)\n",
      "('Breakfast & Brunch', 130)\n",
      "('Italian', 124)\n",
      "('Canadian (New)', 118)\n",
      "\n",
      "\n",
      " 6 category dictionary\n",
      "('Italian', 68)\n",
      "('Coffee & Tea', 65)\n",
      "('Bars', 49)\n",
      "('Japanese', 48)\n",
      "('Sushi Bars', 47)\n",
      "\n",
      "\n",
      " 7 category dictionary\n",
      "('Coffee & Tea', 39)\n",
      "('Specialty Food', 25)\n",
      "('Bars', 23)\n",
      "('Cafes', 22)\n",
      "('Sandwiches', 22)\n"
     ]
    }
   ],
   "source": [
    "print(\"\\n\\nClusters:\")\n",
    "label_count(dfB[\"clusters\"])\n",
    "\n",
    "#print top 5 categories in each cluster\n",
    "info = [\"categories\", \"name\", \"clusters\"]\n",
    "grouped = dfB[info]\n",
    "grouped = grouped.fillna(\"\")\n",
    "print_Categories(grouped, 8)"
   ]
  },
  {
   "cell_type": "code",
   "execution_count": null,
   "metadata": {},
   "outputs": [],
   "source": []
  }
 ],
 "metadata": {
  "kernelspec": {
   "display_name": "Python 3",
   "language": "python",
   "name": "python3"
  },
  "language_info": {
   "codemirror_mode": {
    "name": "ipython",
    "version": 3
   },
   "file_extension": ".py",
   "mimetype": "text/x-python",
   "name": "python",
   "nbconvert_exporter": "python",
   "pygments_lexer": "ipython3",
   "version": "3.6.5"
  }
 },
 "nbformat": 4,
 "nbformat_minor": 2
}
